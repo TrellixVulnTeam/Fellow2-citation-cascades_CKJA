{
 "cells": [
  {
   "cell_type": "code",
   "execution_count": 1,
   "metadata": {},
   "outputs": [],
   "source": [
    "import matplotlib\n",
    "import matplotlib.pyplot as plt\n",
    "import json\n",
    "from collections import defaultdict"
   ]
  },
  {
   "cell_type": "code",
   "execution_count": 2,
   "metadata": {},
   "outputs": [],
   "source": [
    "# author information\n",
    "\n",
    "paper_author = defaultdict(list)\n",
    "author_paper = defaultdict(list)\n",
    "\n",
    "with open('D:/Aminer/json/aminer_author2paper.json',  encoding=\"utf8\") as json_file:  \n",
    "    data = json.load(json_file)\n",
    "    for p in data['RECORDS']:\n",
    "        paper_author[p['pid']].append(p['aid'])\n",
    "        author_paper[p['aid']].append(p['pid'])"
   ]
  },
  {
   "cell_type": "code",
   "execution_count": 3,
   "metadata": {},
   "outputs": [],
   "source": [
    "# paper metadata\n",
    "\n",
    "paper_title = {}\n",
    "paper_year = {}\n",
    "paper_venue = {}\n",
    "with open('D:/Aminer/json/aminer_paper.json',  encoding=\"utf8\") as json_file:  \n",
    "    data = json.load(json_file, strict = False)\n",
    "    for p in data['RECORDS']:\n",
    "        paper_title[p['pid']] = p['p_title']\n",
    "        paper_year[p['pid']] = int(p['p_year'])\n",
    "        paper_venue[p['pid']] = p['p_venue']"
   ]
  },
  {
   "cell_type": "code",
   "execution_count": 4,
   "metadata": {},
   "outputs": [],
   "source": [
    "# direct citations\n",
    "\n",
    "paper_citing = defaultdict(list)\n",
    "with open('D:/Aminer/json/aminer_reference.json',  encoding=\"utf8\") as json_file:  \n",
    "    data = json.load(json_file)\n",
    "    for p in data['RECORDS']:\n",
    "        paper_citing[p['pid']].append(p['cpid'])"
   ]
  },
  {
   "cell_type": "code",
   "execution_count": 5,
   "metadata": {},
   "outputs": [],
   "source": [
    "def self_citation_whether (paper_1, paper_2):\n",
    "    for author_1 in paper_author[paper_1]:\n",
    "        for author_2 in paper_author[paper_2]:\n",
    "            if author_1 == author_2:\n",
    "                return True\n",
    "    return False"
   ]
  },
  {
   "cell_type": "code",
   "execution_count": 6,
   "metadata": {},
   "outputs": [],
   "source": [
    "# indirect citations\n",
    "indirect_citation = defaultdict(list)\n",
    "for paper in paper_year.keys():\n",
    "    for citing_paper_1 in paper_citing[paper]:\n",
    "        for citing_paper_2 in paper_citing[paper]:\n",
    "            if citing_paper_1 in paper_citing[citing_paper_2]:\n",
    "                temp = []\n",
    "                temp.append(citing_paper_1)\n",
    "                temp.append(citing_paper_2)\n",
    "                indirect_citation[paper].append(temp)"
   ]
  },
  {
   "cell_type": "markdown",
   "metadata": {},
   "source": [
    "# Considering authors' previous collaboration history"
   ]
  },
  {
   "cell_type": "code",
   "execution_count": 7,
   "metadata": {},
   "outputs": [],
   "source": [
    "def collaboration_before(author_1, author_2, year_check):\n",
    "    for paper_1 in author_paper[author_1]:\n",
    "        for paper_2 in author_paper[author_2]:\n",
    "            if paper_1 == paper_2 and paper_year[paper_1] <= year_check:\n",
    "                return True\n",
    "    return False\n",
    "    \n",
    "\n",
    "def self_citation_previous_whether(paper_1, paper_2, soft_year = 0):\n",
    "    #if we want to examine whether they collaborate before 2007, if solf_year=1, we will check 2008 and before. By default it is 0.\n",
    "    year_check = max(paper_1, paper_2) + soft_year\n",
    "    for author_1 in paper_author[paper_1]:\n",
    "        for author_2 in paper_author[paper_2]:\n",
    "            if collaboration_before(author_1, author_2, year_check):\n",
    "                return True\n",
    "    return False"
   ]
  },
  {
   "cell_type": "code",
   "execution_count": 9,
   "metadata": {},
   "outputs": [
    {
     "name": "stdout",
     "output_type": "stream",
     "text": [
      "0 out of 10000 citations have been processed...\n",
      "100 out of 10000 citations have been processed...\n",
      "200 out of 10000 citations have been processed...\n",
      "300 out of 10000 citations have been processed...\n",
      "400 out of 10000 citations have been processed...\n",
      "500 out of 10000 citations have been processed...\n",
      "600 out of 10000 citations have been processed...\n",
      "700 out of 10000 citations have been processed...\n",
      "800 out of 10000 citations have been processed...\n",
      "900 out of 10000 citations have been processed...\n",
      "1000 out of 10000 citations have been processed...\n"
     ]
    },
    {
     "data": {
      "image/png": "[encoded data removed]",
      "text/plain": [
       "<Figure size 720x360 with 2 Axes>"
      ]
     },
     "metadata": {
      "needs_background": "light"
     },
     "output_type": "display_data"
    }
   ],
   "source": [
    "# Indirect citation\n",
    "\n",
    "indirect_self_list = []\n",
    "cc_list_0 = []\n",
    "\n",
    "for paper in paper_year.keys():\n",
    "    indirect_self = 0\n",
    "    for temp in indirect_citation[paper]:\n",
    "        if self_citation_previous_whether(temp[0], temp[1]):\n",
    "            indirect_self += 1\n",
    "    if len(indirect_citation[paper]) > 0:\n",
    "        indirect_self = float(indirect_self) / float(len(indirect_citation[paper]))\n",
    "        indirect_self_list.append(indirect_self)\n",
    "        cc_list_0.append(len(paper_citing[paper]))\n",
    "\n",
    "x5_list = []\n",
    "y5_list = []\n",
    "x6_list = []\n",
    "y6_list = []\n",
    "for cc in range(0, 10001):\n",
    "    if cc % 1000 == 0:\n",
    "        print (str(cc) + \" out of 10000 citations have been processed...\")\n",
    "    temp_5 = 0\n",
    "    count_5 = 0\n",
    "    panduan_5 = 0\n",
    "    temp_6 = 0\n",
    "    count_6 = 0\n",
    "    panduan_6 = 0\n",
    "    for i in range(len(cc_list_0)):\n",
    "        if cc_list_0[i] == cc:\n",
    "            temp_5 += indirect_self_list[i]\n",
    "            count_5 += 1\n",
    "            panduan_5 = 1\n",
    "        if cc_list_0[i] >= cc:\n",
    "            temp_6 += indirect_self_list[i]\n",
    "            count_6 += 1\n",
    "            panduan_6 = 1\n",
    "    if panduan_5 == 1:\n",
    "        x5_list.append(cc)\n",
    "        y5_list.append(float(temp_5) / float(count_5))\n",
    "    if panduan_6 == 1:\n",
    "        x6_list.append(cc)\n",
    "        y6_list.append(float(temp_6) / float(count_6))\n",
    "\n",
    "plt.figure(figsize=(10,5))\n",
    "matplotlib.rcParams['agg.path.chunksize'] = 10000\n",
    "plt.subplot(1,2,1)\n",
    "plt.plot(x5_list, y5_list, \"r+\", markersize = 1)\n",
    "plt.title('PDF')\n",
    "plt.xlabel(\"citation\")\n",
    "plt.ylabel(\"avg(indirect self-citation percentage)\")\n",
    "plt.ylim([0,1])\n",
    "plt.xscale(\"log\")\n",
    "\n",
    "plt.subplot(1,2,2)\n",
    "plt.plot(x6_list, y6_list, \"r+\", markersize = 1)\n",
    "plt.title('CCDF')\n",
    "plt.xlabel(\"min(citation)\")\n",
    "plt.ylabel(\"avg(indirect self-citation percentage)\")\n",
    "plt.ylim([0,1])\n",
    "plt.xscale(\"log\")\n",
    "\n",
    "plt.subplots_adjust (left = 2, right = 4, top = 4, bottom = 2, wspace = 0.5, hspace = 0.5)\n",
    "plt.show()"
   ]
  },
  {
   "cell_type": "code",
   "execution_count": 10,
   "metadata": {},
   "outputs": [
    {
     "data": {
      "image/png": "[encoded data removed]",
      "text/plain": [
       "<Figure size 432x288 with 1 Axes>"
      ]
     },
     "metadata": {
      "needs_background": "light"
     },
     "output_type": "display_data"
    }
   ],
   "source": [
    "# Self-citations and year\n",
    "\n",
    "year_list = [] #from 1980 to 2005\n",
    "self_year_list = []\n",
    "non_self_year_list = []\n",
    "count = 0\n",
    "\n",
    "\n",
    "for year in range(1980, 2006):\n",
    "    self_year = 0\n",
    "    non_self_year = 0\n",
    "    self_count = 0\n",
    "    non_self_count = 0\n",
    "    for paper in paper_year.keys():\n",
    "        count += 1\n",
    "        if paper_year[paper] == year:\n",
    "            if paper in paper_citing.keys():\n",
    "\n",
    "                for citing_paper in paper_citing[paper]:\n",
    "                    if self_citation_previous_whether(paper, citing_paper):\n",
    "                        self_year += (paper_year[citing_paper] - paper_year[paper])\n",
    "                        self_count += 1\n",
    "                    else:\n",
    "                        non_self_year += (paper_year[citing_paper] - paper_year[paper])\n",
    "                        non_self_count += 1\n",
    "    self_year_list.append(float(self_year) / float(self_count + 1))\n",
    "    non_self_year_list.append(float(non_self_year) / float(non_self_count + 1))\n",
    "    year_list.append(year)\n",
    "\n",
    "plt.plot(year_list, self_year_list, \"r+\", markersize = 3, label = 'self_year_avg')\n",
    "plt.plot(year_list, non_self_year_list, \"g+\", markersize = 3, label = 'non_self_year_avg')\n",
    "plt.xlabel('year')\n",
    "plt.ylabel('self/non_self year average')\n",
    "plt.legend(loc = 'upper right')\n",
    "plt.show()   "
   ]
  },
  {
   "cell_type": "markdown",
   "metadata": {},
   "source": [
    "# Considering authors' \"social distance\" (coauthors' coauthors, etc.)"
   ]
  },
  {
   "cell_type": "code",
   "execution_count": 14,
   "metadata": {},
   "outputs": [],
   "source": [
    "def social_distance (author_1, author_2, year_check):\n",
    "    if collaboration_before(author_1, author_2, year_check):\n",
    "        return 0\n",
    "    else:\n",
    "        for author in author_paper.keys():\n",
    "            if collaboration_before(author_1, author, year_check) and collaboration_before(author_2, author, year_check):\n",
    "                return 1\n",
    "        for author_a in author_paper.keys():\n",
    "            for author_b in author_paper.keys():\n",
    "                if collaboration_before(author_1, author_a, year_check) and collaboration_before(author_2, author_b, year_check) and collaboration_before(author_a, author_b, year_check):\n",
    "                    return 2\n",
    "        return 3\n",
    "# 0: co-author relationship before this year (A-B)\n",
    "# 1: they share another co-author before this year (A-X-B)\n",
    "# 2: their co-authors have ever collaborated at least once before this year (A-X1-X2-B)\n",
    "# 3: \"farther\" relationship"
   ]
  },
  {
   "cell_type": "code",
   "execution_count": null,
   "metadata": {},
   "outputs": [],
   "source": [
    "# Case study: Papers in 2000\n",
    "\n",
    "type_0_edge = []\n",
    "type_1_edge = []\n",
    "type_2_edge = []\n",
    "type_3_edge = []\n",
    "cc_list_5 = []\n",
    "\n",
    "for paper in paper_year.keys():\n",
    "    if paper_year[paper] == 2000:\n",
    "        type_0 = 0\n",
    "        type_1 = 0\n",
    "        type_2 = 0\n",
    "        type_3 = 0\n",
    "        for citing_paper in paper_citing[paper]:\n",
    "            # for each citing paper\n",
    "            for author_owner in paper_author[paper]:\n",
    "                for author_endorser in paper_author[citing_paper]:\n",
    "                    temp = social_distance (author_owner, author_endorser, paper_year[citing_paper])\n",
    "                    if temp == 0:\n",
    "                        type_0 += 1\n",
    "                    elif temp == 1:\n",
    "                        type_1 += 1\n",
    "                    elif tmpe == 2:\n",
    "                        type_2 += 1\n",
    "                    else:\n",
    "                        type_3 += 1\n",
    "        type_0_edge.append(type_0)\n",
    "        type_1_edge.append(type_1)\n",
    "        type_2_edge.append(type_2)\n",
    "        type_3_edge.append(type_3)\n",
    "        cc_list_5.append(len(paper_citing[paper]))\n"
   ]
  },
  {
   "cell_type": "code",
   "execution_count": null,
   "metadata": {},
   "outputs": [],
   "source": [
    "plt.plot(cc_list_5, type_0_edge, \"r+\", markersize = 3, label = \"social distance = 0\")\n",
    "plt.plot(cc_list_5, type_1_edge, \"g+\", markersize = 3, label = \"social distance = 1\")\n",
    "plt.plot(cc_list_5, type_2_edge, \"b+\", markersize = 3, label = \"social distance = 2\")\n",
    "plt.plot(cc_list_5, type_3_edge, \"y+\", markersize = 3, label = \"social distance = 3\")\n",
    "plt.xlabel('cc')\n",
    "plt.ylabel('number of different types of citations')\n",
    "plt.legend(loc = 'upper left')\n",
    "plt.show()"
   ]
  }
 ],
 "metadata": {
  "kernelspec": {
   "display_name": "Python 3",
   "language": "python",
   "name": "python3"
  },
  "language_info": {
   "codemirror_mode": {
    "name": "ipython",
    "version": 3
   },
   "file_extension": ".py",
   "mimetype": "text/x-python",
   "name": "python",
   "nbconvert_exporter": "python",
   "pygments_lexer": "ipython3",
   "version": "3.7.3"
  }
 },
 "nbformat": 4,
 "nbformat_minor": 2
}
