{
 "cells": [
  {
   "cell_type": "code",
   "execution_count": 26,
   "metadata": {},
   "outputs": [],
   "source": [
    "from pyspark.sql import SparkSession\n",
    "spark = SparkSession.builder.getOrCreate()"
   ]
  },
  {
   "cell_type": "code",
   "execution_count": 28,
   "metadata": {},
   "outputs": [
    {
     "data": {
      "text/plain": [
       "[]"
      ]
     },
     "execution_count": 28,
     "metadata": {},
     "output_type": "execute_result"
    }
   ],
   "source": [
    "from pyspark.dbutils import DBUtils\n",
    "\n",
    "dbutils = DBUtils(spark.sparkContext)\n",
    "dbutils.fs.ls(\"/mnt\")"
   ]
  },
  {
   "cell_type": "code",
   "execution_count": 30,
   "metadata": {},
   "outputs": [
    {
     "name": "stdout",
     "output_type": "stream",
     "text": [
      "+-------+------+------+------+------+------+------+---+------+------+------+------+----+----+------+------+------+------+------+------+------+------+------+\n",
      "|summary|_c0   |_c1   |_c2   |_c3   |_c4   |_c5   |_c6|_c7   |_c8   |_c9   |_c10  |_c11|_c12|_c13  |_c14  |_c15  |_c16  |_c17  |_c18  |_c19  |_c20  |_c21  |\n",
      "+-------+------+------+------+------+------+------+---+------+------+------+------+----+----+------+------+------+------+------+------+------+------+------+\n",
      "|count  |138953|138953|135508|138953|138953|138953|25 |138953|138953|135368|138953|0   |0   |135531|135099|133690|127181|138953|138953|138953|138953|138953|\n",
      "+-------+------+------+------+------+------+------+---+------+------+------+------+----+----+------+------+------+------+------+------+------+------+------+\n",
      "\n"
     ]
    }
   ],
   "source": [
    "import pyspark.sql.functions as sql\n",
    "papers = spark.read.format(\"parquet\").load(\"/mnt/test/graph/2019-1-11-PNAS/papers/*.parquet\")\n",
    "papers.describe().filter(sql.col(\"summary\") == \"count\").show(20,False)"
   ]
  },
  {
   "cell_type": "code",
   "execution_count": 42,
   "metadata": {},
   "outputs": [
    {
     "name": "stdout",
     "output_type": "stream",
     "text": [
      "3.5.5 | packaged by conda-forge | (default, Jul 23 2018, 23:45:43) \n",
      "[GCC 4.8.2 20140120 (Red Hat 4.8.2-15)]\n",
      "/home/jovyan\n"
     ]
    }
   ],
   "source": [
    "import sys, os\n",
    "print(sys.version)\n",
    "print(os.environ['HOME'])"
   ]
  },
  {
   "cell_type": "code",
   "execution_count": 36,
   "metadata": {},
   "outputs": [
    {
     "data": {
      "text/html": [
       "<div>\n",
       "<style scoped>\n",
       "    .dataframe tbody tr th:only-of-type {\n",
       "        vertical-align: middle;\n",
       "    }\n",
       "\n",
       "    .dataframe tbody tr th {\n",
       "        vertical-align: top;\n",
       "    }\n",
       "\n",
       "    .dataframe thead th {\n",
       "        text-align: right;\n",
       "    }\n",
       "</style>\n",
       "<table border=\"1\" class=\"dataframe\">\n",
       "  <thead>\n",
       "    <tr style=\"text-align: right;\">\n",
       "      <th></th>\n",
       "      <th>0</th>\n",
       "    </tr>\n",
       "  </thead>\n",
       "  <tbody>\n",
       "    <tr>\n",
       "      <th>0</th>\n",
       "      <td>Cell death &amp; differentiation</td>\n",
       "    </tr>\n",
       "    <tr>\n",
       "      <th>1</th>\n",
       "      <td>Cell systems</td>\n",
       "    </tr>\n",
       "    <tr>\n",
       "      <th>2</th>\n",
       "      <td>Current opinion in biotechnology</td>\n",
       "    </tr>\n",
       "    <tr>\n",
       "      <th>3</th>\n",
       "      <td>Current opinion in chemical biology</td>\n",
       "    </tr>\n",
       "    <tr>\n",
       "      <th>4</th>\n",
       "      <td>Embo reports</td>\n",
       "    </tr>\n",
       "    <tr>\n",
       "      <th>5</th>\n",
       "      <td>Metabolic engineering</td>\n",
       "    </tr>\n",
       "    <tr>\n",
       "      <th>6</th>\n",
       "      <td>Molecular aspects of medicine</td>\n",
       "    </tr>\n",
       "    <tr>\n",
       "      <th>7</th>\n",
       "      <td>Molecular therapy</td>\n",
       "    </tr>\n",
       "    <tr>\n",
       "      <th>8</th>\n",
       "      <td>The Plant Cell</td>\n",
       "    </tr>\n",
       "  </tbody>\n",
       "</table>\n",
       "</div>"
      ],
      "text/plain": [
       "                                     0\n",
       "0         Cell death & differentiation\n",
       "1                         Cell systems\n",
       "2     Current opinion in biotechnology\n",
       "3  Current opinion in chemical biology\n",
       "4                         Embo reports\n",
       "5                Metabolic engineering\n",
       "6        Molecular aspects of medicine\n",
       "7                    Molecular therapy\n",
       "8                       The Plant Cell"
      ]
     },
     "execution_count": 36,
     "metadata": {},
     "output_type": "execute_result"
    }
   ],
   "source": [
    "import pandas as pd\n",
    "data = pd.read_csv('bioJournalList.txt', header=None)\n",
    "data"
   ]
  },
  {
   "cell_type": "code",
   "execution_count": 1,
   "metadata": {},
   "outputs": [
    {
     "name": "stdout",
     "output_type": "stream",
     "text": [
      "\n",
      "Please wait a moment while I gather a list of all available modules...\n",
      "\n"
     ]
    },
    {
     "name": "stderr",
     "output_type": "stream",
     "text": [
      "/srv/conda/envs/notebook/lib/python3.5/site-packages/IPython/kernel/__init__.py:13: ShimWarning: The `IPython.kernel` package has been deprecated since IPython 4.0.You should import from ipykernel or jupyter_client instead.\n",
      "  \"You should import from ipykernel or jupyter_client instead.\", ShimWarning)\n"
     ]
    },
    {
     "name": "stdout",
     "output_type": "stream",
     "text": [
      "CDROM               backcall            jsonschema          select\n",
      "DLFCN               base64              jupyter             selectors\n",
      "IN                  bdb                 jupyter_client      send2trash\n",
      "IPython             binascii            jupyter_core        setuptools\n",
      "TYPES               binhex              jupyterhub          shelve\n",
      "__future__          bisect              jupyterlab          shlex\n",
      "_ast                bleach              jupyterlab_launcher shutil\n",
      "_bisect             builtins            keyword             signal\n",
      "_bootlocale         bz2                 lib2to3             simplegeneric\n",
      "_bz2                cProfile            linecache           site\n",
      "_codecs             calendar            locale              six\n",
      "_codecs_cn          certifi             logging             smtpd\n",
      "_codecs_hk          cgi                 lzma                smtplib\n",
      "_codecs_iso2022     cgitb               macpath             sndhdr\n",
      "_codecs_jp          chardet             macurl2path         socket\n",
      "_codecs_kr          chunk               mailbox             socketserver\n",
      "_codecs_tw          cmath               mailcap             spwd\n",
      "_collections        cmd                 mako                sqlalchemy\n",
      "_collections_abc    code                markupsafe          sqlite3\n",
      "_compat_pickle      codecs              marshal             sre_compile\n",
      "_compression        codeop              math                sre_constants\n",
      "_crypt              collections         mimetypes           sre_parse\n",
      "_csv                colorsys            mistune             ssl\n",
      "_ctypes             compileall          mmap                stat\n",
      "_ctypes_test        concurrent          modulefinder        statistics\n",
      "_curses             configparser        multiprocessing     storemagic\n",
      "_curses_panel       contextlib          nbconvert           string\n",
      "_datetime           copy                nbformat            stringprep\n",
      "_decimal            copyreg             netrc               struct\n",
      "_dummy_thread       crypt               nis                 subprocess\n",
      "_elementtree        csv                 nntplib             sunau\n",
      "_functools          ctypes              notebook            symbol\n",
      "_hashlib            curses              nteract_on_jupyter  sympyprinting\n",
      "_heapq              cythonmagic         ntpath              symtable\n",
      "_imp                datetime            nturl2path          sys\n",
      "_io                 dateutil            numbers             sysconfig\n",
      "_json               dbm                 numpy               syslog\n",
      "_locale             decimal             oauth2              tabnanny\n",
      "_lsprof             decorator           opcode              tarfile\n",
      "_lzma               defusedxml          operator            telnetlib\n",
      "_markupbase         difflib             optparse            tempfile\n",
      "_md5                dis                 os                  terminado\n",
      "_multibytecodec     distutils           ossaudiodev         termios\n",
      "_multiprocessing    doctest             pamela              testpath\n",
      "_opcode             dummy_threading     pandas              tests\n",
      "_operator           easy_install        pandocfilters       textwrap\n",
      "_osx_support        editor              parser              this\n",
      "_pickle             email               parso               threading\n",
      "_posixsubprocess    encodings           pathlib             time\n",
      "_pydecimal          ensurepip           pdb                 timeit\n",
      "_pyio               entrypoints         pexpect             tkinter\n",
      "_random             enum                pickle              token\n",
      "_sha1               errno               pickleshare         tokenize\n",
      "_sha256             faulthandler        pickletools         tornado\n",
      "_sha512             fcntl               pip                 trace\n",
      "_signal             filecmp             pipes               traceback\n",
      "_sitebuiltins       fileinput           pkg_resources       tracemalloc\n",
      "_socket             fnmatch             pkgutil             traitlets\n",
      "_sqlite3            formatter           platform            tty\n",
      "_sre                fractions           plistlib            turtle\n",
      "_ssl                ftplib              poplib              turtledemo\n",
      "_stat               functools           posix               types\n",
      "_string             gc                  posixpath           typing\n",
      "_strptime           genericpath         pprint              unicodedata\n",
      "_struct             getopt              profile             unittest\n",
      "_symtable           getpass             prometheus_client   urllib\n",
      "_sysconfigdata      gettext             prompt_toolkit      urllib3\n",
      "_testbuffer         glob                pstats              uu\n",
      "_testcapi           grp                 pty                 uuid\n",
      "_testimportmultiple gzip                ptyprocess          venv\n",
      "_testmultiphase     hashlib             pwd                 warnings\n",
      "_thread             heapq               py4j                wave\n",
      "_threading_local    hmac                py_compile          wcwidth\n",
      "_tkinter            html                pyclbr              weakref\n",
      "_tracemalloc        http                pydoc               webbrowser\n",
      "_warnings           idlelib             pydoc_data          webencodings\n",
      "_weakref            idna                pyexpat             wheel\n",
      "_weakrefset         imaplib             pygments            widgetsnbextension\n",
      "abc                 imghdr              pyspark             wsgiref\n",
      "aifc                imp                 pytz                xdrlib\n",
      "alembic             importlib           queue               xml\n",
      "antigravity         inspect             quopri              xmlrpc\n",
      "argparse            io                  random              xxlimited\n",
      "array               ipaddress           re                  xxsubtype\n",
      "ast                 ipykernel           readline            zipapp\n",
      "async_generator     ipykernel_launcher  reprlib             zipfile\n",
      "asynchat            ipython_genutils    requests            zipimport\n",
      "asyncio             ipywidgets          resource            zlib\n",
      "asyncore            itertools           rlcompleter         zmq\n",
      "atexit              jedi                rmagic              \n",
      "audioop             jinja2              runpy               \n",
      "autoreload          json                sched               \n",
      "\n",
      "Enter any module name to get more help.  Or, type \"modules spam\" to search\n",
      "for modules whose name or summary contain the string \"spam\".\n",
      "\n"
     ]
    },
    {
     "name": "stderr",
     "output_type": "stream",
     "text": [
      "/srv/conda/envs/notebook/lib/python3.5/pkgutil.py:104: VisibleDeprecationWarning: zmq.eventloop.minitornado is deprecated in pyzmq 14.0 and will be removed.\n",
      "    Install tornado itself to use zmq with the tornado IOLoop.\n",
      "    \n",
      "  yield from walk_packages(path, name+'.', onerror)\n"
     ]
    }
   ],
   "source": [
    "help('modules')"
   ]
  },
  {
   "cell_type": "code",
   "execution_count": null,
   "metadata": {},
   "outputs": [],
   "source": []
  }
 ],
 "metadata": {
  "kernelspec": {
   "display_name": "Python 3",
   "language": "python",
   "name": "python3"
  },
  "language_info": {
   "codemirror_mode": {
    "name": "ipython",
    "version": 3
   },
   "file_extension": ".py",
   "mimetype": "text/x-python",
   "name": "python",
   "nbconvert_exporter": "python",
   "pygments_lexer": "ipython3",
   "version": "3.5.5"
  }
 },
 "nbformat": 4,
 "nbformat_minor": 2
}
